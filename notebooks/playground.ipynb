{
 "cells": [
  {
   "cell_type": "code",
   "execution_count": 3,
   "id": "55744031",
   "metadata": {},
   "outputs": [
    {
     "name": "stdout",
     "output_type": "stream",
     "text": [
      "Requirement already satisfied: scipy in c:\\users\\nidarshana\\.conda\\envs\\theoriginal\\lib\\site-packages (1.16.0)\n",
      "Requirement already satisfied: numpy in c:\\users\\nidarshana\\.conda\\envs\\theoriginal\\lib\\site-packages (2.2.5)\n",
      "Note: you may need to restart the kernel to use updated packages.\n"
     ]
    }
   ],
   "source": [
    "%pip install scipy numpy"
   ]
  },
  {
   "cell_type": "code",
   "execution_count": 2,
   "id": "7620a34f",
   "metadata": {},
   "outputs": [],
   "source": [
    "import scipy\n",
    "import numpy as np\n",
    "import sys\n",
    "import os\n",
    "sys.path.append(os.path.abspath(os.path.join(os.getcwd(), '..', 'src')))\n",
    "from go_mtl import GroupingAndOverlappingMultiTaskLearer as GOMTL"
   ]
  },
  {
   "cell_type": "code",
   "execution_count": 3,
   "id": "7d318237",
   "metadata": {},
   "outputs": [
    {
     "data": {
      "text/plain": [
       "go_mtl.GroupingAndOverlappingMultiTaskLearer"
      ]
     },
     "execution_count": 3,
     "metadata": {},
     "output_type": "execute_result"
    }
   ],
   "source": [
    "GOMTL"
   ]
  }
 ],
 "metadata": {
  "kernelspec": {
   "display_name": "TheOriginal",
   "language": "python",
   "name": "python3"
  },
  "language_info": {
   "codemirror_mode": {
    "name": "ipython",
    "version": 3
   },
   "file_extension": ".py",
   "mimetype": "text/x-python",
   "name": "python",
   "nbconvert_exporter": "python",
   "pygments_lexer": "ipython3",
   "version": "3.13.5"
  }
 },
 "nbformat": 4,
 "nbformat_minor": 5
}
